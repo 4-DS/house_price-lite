{
 "cells": [
  {
   "cell_type": "code",
   "execution_count": null,
   "id": "870a1090-f4ae-45a0-aa93-0960f5c6478d",
   "metadata": {
    "editable": true,
    "slideshow": {
     "slide_type": ""
    },
    "tags": []
   },
   "outputs": [],
   "source": [
    "%load_ext autoreload\n",
    "%autoreload 2\n",
    "import sys, os\n",
    "sys.path.append('../')"
   ]
  },
  {
   "cell_type": "code",
   "execution_count": null,
   "id": "453c78e8-6822-4123-bf9d-ed1ae9dd7bea",
   "metadata": {
    "editable": true,
    "slideshow": {
     "slide_type": ""
    },
    "tags": [
     "parameters"
    ]
   },
   "outputs": [],
   "source": [
    "# specify parameters for interactive run\n",
    "# this cell will be replaced during pipeline run with the parameters from notebook function call\n",
    "bento_service = '/tmp/step/house_price-lite/exp-pipeline/run-24-12-27-072817/bento_service'\n",
    "substep_params={   \n",
    "    \"rmse_threshold\": 15\n",
    "}"
   ]
  },
  {
   "cell_type": "code",
   "execution_count": null,
   "id": "bb369712-7de9-4d38-b2f4-568931a63565",
   "metadata": {},
   "outputs": [],
   "source": [
    "#substep.add_metric('experiment_name', 'evaluation_metrics_example')"
   ]
  },
  {
   "cell_type": "code",
   "execution_count": null,
   "id": "04f8c516-079f-4473-8564-1cf66344872c",
   "metadata": {
    "tags": []
   },
   "outputs": [],
   "source": [
    "# load a bentoservice\n",
    "from sinara.bentoml import load_bentoservice\n",
    "from sklearn.metrics import root_mean_squared_error, r2_score\n",
    "bento_serv = load_bentoservice(bento_service)"
   ]
  },
  {
   "cell_type": "code",
   "execution_count": null,
   "id": "148126f7-35fb-43e2-af73-bf745d671b3c",
   "metadata": {
    "editable": true,
    "slideshow": {
     "slide_type": ""
    },
    "tags": []
   },
   "outputs": [],
   "source": [
    "bento_service_version = bento_serv.service_version().split('.')[-1]\n",
    "# substep.add_metric(\"version\", \n",
    "#                    {'bento_service_version': bento_service_version})\n",
    "print(bento_service_version)"
   ]
  },
  {
   "cell_type": "code",
   "execution_count": null,
   "id": "ae7abe0a-bdba-4d76-9543-e1412419d144",
   "metadata": {},
   "outputs": [],
   "source": [
    "# evaluate model, check model quality on test dataset\n",
    "import pandas as pd\n",
    "test_data = bento_serv.test_data()\n",
    "predictions = bento_serv.predict(pd.DataFrame(test_data['X']))\n",
    "rmse = root_mean_squared_error(pd.DataFrame(test_data['Y']).values, predictions)\n",
    "r2 = r2_score(pd.DataFrame(test_data['Y']).values, predictions)\n",
    "print(\"The root mean squared error (RMSE) on test set: {:.4f}\".format(rmse))"
   ]
  },
  {
   "cell_type": "code",
   "execution_count": null,
   "id": "06ac6076-34c1-4c80-830f-ce0b131043e6",
   "metadata": {
    "editable": true,
    "slideshow": {
     "slide_type": ""
    },
    "tags": []
   },
   "outputs": [],
   "source": [
    "# # add evaluation results to the step metrics\n",
    "# substep.add_metric('eval_result', {'r2': r2,\n",
    "#                               'rmse': rmse})"
   ]
  },
  {
   "cell_type": "code",
   "execution_count": null,
   "id": "47c68c69-46d1-48d0-a239-fac8bf36c6fa",
   "metadata": {
    "tags": []
   },
   "outputs": [],
   "source": [
    "# check eval result\n",
    "rmse_threshold = substep_params[\"rmse_threshold\"]\n",
    "if rmse > rmse_threshold:\n",
    "    raise Exception(f'RMSE is {rmse}, more than acceptable value of {rmse_threshold}')"
   ]
  },
  {
   "cell_type": "code",
   "execution_count": null,
   "id": "3086c3aa-991a-4c5a-96c2-d341f1b2b4ec",
   "metadata": {},
   "outputs": [],
   "source": [
    "rmse_threshold"
   ]
  },
  {
   "cell_type": "code",
   "execution_count": null,
   "id": "f4595ed1-932a-40cc-9cbd-c78108174ddc",
   "metadata": {},
   "outputs": [],
   "source": []
  }
 ],
 "metadata": {
  "kernelspec": {
   "display_name": "ml",
   "language": "python",
   "name": "python3"
  },
  "language_info": {
   "codemirror_mode": {
    "name": "ipython",
    "version": 3
   },
   "file_extension": ".py",
   "mimetype": "text/x-python",
   "name": "python",
   "nbconvert_exporter": "python",
   "pygments_lexer": "ipython3",
   "version": "3.10.12"
  }
 },
 "nbformat": 4,
 "nbformat_minor": 5
}
