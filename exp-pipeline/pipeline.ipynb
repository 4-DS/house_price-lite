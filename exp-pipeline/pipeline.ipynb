{
 "cells": [
  {
   "cell_type": "code",
   "execution_count": null,
   "id": "a578b372-ee05-40de-9396-d19ecd9af7c6",
   "metadata": {
    "editable": true,
    "slideshow": {
     "slide_type": ""
    },
    "tags": [
     "parameters"
    ]
   },
   "outputs": [],
   "source": [
    "import sys, os\n",
    "sys.path.append('../')\n",
    "\n",
    "import sinara.experiment as exp\n",
    "\n",
    "data_load = exp.Experiment.function(\"data_load.ipynb\")\n",
    "data_prep = exp.Experiment.function(\"data_prep.ipynb\")\n",
    "model_train = exp.Experiment.function(\"model_train.ipynb\")\n",
    "model_eval = exp.Experiment.function(\"model_eval.ipynb\")\n",
    "model_test = exp.Experiment.function(\"model_test.ipynb\")\n",
    "\n",
    "\n",
    "data_load_result = data_load()\n",
    "data_prep_result = data_prep(boston_dataset = data_load_result)\n",
    "model_train_result = model_train(train_params = data_prep_result)\n",
    "model_eval(bento_service = model_train_result, substep_params={\n",
    "    \"rmse_threshold\": 15\n",
    "})\n",
    "model_test(bento_service = model_train_result, substep_params={\n",
    "    \"rmse_threshold\": 15\n",
    "})\n"
   ]
  },
  {
   "cell_type": "code",
   "execution_count": null,
   "id": "26697653-da3d-4a88-aa80-6af3f1bfee82",
   "metadata": {
    "editable": true,
    "slideshow": {
     "slide_type": ""
    },
    "tags": []
   },
   "outputs": [],
   "source": []
  }
 ],
 "metadata": {
  "kernelspec": {
   "display_name": "ml",
   "language": "python",
   "name": "python3"
  },
  "language_info": {
   "codemirror_mode": {
    "name": "ipython",
    "version": 3
   },
   "file_extension": ".py",
   "mimetype": "text/x-python",
   "name": "python",
   "nbconvert_exporter": "python",
   "pygments_lexer": "ipython3",
   "version": "3.10.12"
  }
 },
 "nbformat": 4,
 "nbformat_minor": 5
}
