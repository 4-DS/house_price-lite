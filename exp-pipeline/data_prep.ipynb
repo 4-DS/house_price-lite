{
 "cells": [
  {
   "cell_type": "code",
   "execution_count": null,
   "id": "870a1090-f4ae-45a0-aa93-0960f5c6478d",
   "metadata": {
    "editable": true,
    "slideshow": {
     "slide_type": ""
    },
    "tags": []
   },
   "outputs": [],
   "source": [
    "%load_ext autoreload\n",
    "%autoreload 2\n",
    "import sys, os\n",
    "sys.path.append('../')"
   ]
  },
  {
   "cell_type": "code",
   "execution_count": null,
   "id": "453c78e8-6822-4123-bf9d-ed1ae9dd7bea",
   "metadata": {
    "editable": true,
    "slideshow": {
     "slide_type": ""
    },
    "tags": [
     "parameters"
    ]
   },
   "outputs": [],
   "source": [
    "# specify parameters for interactive run\n",
    "# this cell will be replaced during pipeline run with the parameters from notebook function call\n",
    "boston_dataset = '/tmp/step/house_price-lite/exp-pipeline/run-24-12-27-053319/boston_dataset'"
   ]
  },
  {
   "cell_type": "code",
   "execution_count": null,
   "id": "55e950c3-3151-4daf-9b98-83d3aebe216d",
   "metadata": {
    "editable": true,
    "slideshow": {
     "slide_type": ""
    },
    "tags": []
   },
   "outputs": [],
   "source": [
    "# run spark\n",
    "from sinara.spark import SinaraSpark\n",
    "\n",
    "spark = SinaraSpark.run_session(0)\n",
    "SinaraSpark.ui_url()"
   ]
  },
  {
   "cell_type": "code",
   "execution_count": null,
   "id": "70b2d9b3-051c-424c-beec-9da8f177b4ed",
   "metadata": {
    "editable": true,
    "slideshow": {
     "slide_type": ""
    },
    "tags": [
     "parameters"
    ]
   },
   "outputs": [],
   "source": [
    "# read inputs \n",
    "boston_df = spark.read.parquet(boston_dataset)"
   ]
  },
  {
   "cell_type": "code",
   "execution_count": null,
   "id": "04f8c516-079f-4473-8564-1cf66344872c",
   "metadata": {
    "editable": true,
    "slideshow": {
     "slide_type": ""
    },
    "tags": []
   },
   "outputs": [],
   "source": [
    "# prepare the data and divide the boston dataset into train, eval and test subsets\n",
    "from sklearn.model_selection import train_test_split\n",
    "\n",
    "train_df, test_df = boston_df.randomSplit(weights=[0.7,0.3], seed=239)\n",
    "eval_df, test_df = test_df.randomSplit(weights=[0.5,0.5], seed=239)\n",
    "\n",
    "x_train = train_df.drop(\"MEDV\")\n",
    "y_train = train_df.select(\"MEDV\")\n",
    "\n",
    "x_eval = eval_df.drop(\"MEDV\")\n",
    "y_eval = eval_df.select(\"MEDV\")\n",
    "\n",
    "x_test = test_df.drop(\"MEDV\")\n",
    "y_test = test_df.select(\"MEDV\")"
   ]
  },
  {
   "cell_type": "code",
   "execution_count": null,
   "id": "47c68c69-46d1-48d0-a239-fac8bf36c6fa",
   "metadata": {
    "editable": true,
    "slideshow": {
     "slide_type": ""
    },
    "tags": [
     "parameters"
    ]
   },
   "outputs": [],
   "source": [
    "#write outputs\n",
    "from sinara.substep import get_tmp_work_path\n",
    "outputs = get_tmp_work_path()\n",
    "\n",
    "x_train.write.parquet(f\"{outputs}/df_X_train\", mode='overwrite')\n",
    "y_train.write.parquet(f\"{outputs}/df_Y_train\", mode='overwrite')\n",
    "\n",
    "x_eval.write.parquet(f\"{outputs}/df_X_eval\", mode='overwrite')\n",
    "y_eval.write.parquet(f\"{outputs}/df_Y_eval\", mode='overwrite')\n",
    "\n",
    "x_test.write.parquet(f\"{outputs}/df_X_test\", mode='overwrite')\n",
    "y_test.write.parquet(f\"{outputs}/df_Y_test\", mode='overwrite')"
   ]
  },
  {
   "cell_type": "code",
   "execution_count": null,
   "id": "82ef2430-57f2-42f4-a435-f50e1edd2c0b",
   "metadata": {
    "tags": []
   },
   "outputs": [],
   "source": [
    "#8 stop spark\n",
    "SinaraSpark.stop_session()"
   ]
  },
  {
   "cell_type": "code",
   "execution_count": null,
   "id": "0dbebece-0f9f-430a-aff8-6ddc78198672",
   "metadata": {
    "editable": true,
    "slideshow": {
     "slide_type": ""
    },
    "tags": [
     "parameters"
    ]
   },
   "outputs": [],
   "source": [
    "# results used by the model_train step\n",
    "{\n",
    "    'df_X_train': f\"{outputs}/df_X_train\",\n",
    "    'df_Y_train': f\"{outputs}/df_Y_train\",\n",
    "    \n",
    "    'df_X_eval': f\"{outputs}/df_X_eval\",\n",
    "    'df_Y_eval': f\"{outputs}/df_Y_eval\",\n",
    "    \n",
    "    'df_X_test': f\"{outputs}/df_X_test\",\n",
    "    'df_Y_test': f\"{outputs}/df_Y_test\",\n",
    "}"
   ]
  },
  {
   "cell_type": "code",
   "execution_count": null,
   "id": "df8319ce-0a7a-45d8-900c-7eab97c5acd2",
   "metadata": {},
   "outputs": [],
   "source": []
  }
 ],
 "metadata": {
  "kernelspec": {
   "display_name": "ml",
   "language": "python",
   "name": "python3"
  },
  "language_info": {
   "codemirror_mode": {
    "name": "ipython",
    "version": 3
   },
   "file_extension": ".py",
   "mimetype": "text/x-python",
   "name": "python",
   "nbconvert_exporter": "python",
   "pygments_lexer": "ipython3",
   "version": "3.10.12"
  }
 },
 "nbformat": 4,
 "nbformat_minor": 5
}
