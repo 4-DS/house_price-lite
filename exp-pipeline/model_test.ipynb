{
 "cells": [
  {
   "cell_type": "code",
   "execution_count": null,
   "id": "870a1090-f4ae-45a0-aa93-0960f5c6478d",
   "metadata": {
    "editable": true,
    "slideshow": {
     "slide_type": ""
    },
    "tags": []
   },
   "outputs": [],
   "source": [
    "%load_ext autoreload\n",
    "%autoreload 2\n",
    "import sys, os\n",
    "sys.path.append('../')"
   ]
  },
  {
   "cell_type": "code",
   "execution_count": null,
   "id": "453c78e8-6822-4123-bf9d-ed1ae9dd7bea",
   "metadata": {
    "editable": true,
    "slideshow": {
     "slide_type": ""
    },
    "tags": [
     "parameters"
    ]
   },
   "outputs": [],
   "source": [
    "# specify parameters for interactive run\n",
    "# this cell will be replaced during pipeline run with the parameters from notebook function call\n",
    "bento_service = '/tmp/step/house_price-lite/exp-pipeline/run-24-12-27-072817/bento_service'\n",
    "substep_params={\n",
    "    \"rmse_threshold\": 15\n",
    "}"
   ]
  },
  {
   "cell_type": "code",
   "execution_count": null,
   "id": "04f8c516-079f-4473-8564-1cf66344872c",
   "metadata": {
    "editable": true,
    "slideshow": {
     "slide_type": ""
    },
    "tags": [
     "parameters"
    ]
   },
   "outputs": [],
   "source": [
    "# Test model API\n",
    "from sinara.bentoml import start_dev_bentoservice, stop_dev_bentoservice, load_bentoservice\n",
    "from sklearn.metrics import root_mean_squared_error\n",
    "import pandas as pd\n",
    "import requests\n",
    "import json\n",
    "\n",
    "# Load BentoService\n",
    "bento_serv = load_bentoservice(bento_service)\n",
    "\n",
    "# Stop a dev model server if running\n",
    "stop_dev_bentoservice(bento_serv)\n",
    "\n",
    "# Start a dev model server to test out the API endpoint locally\n",
    "start_dev_bentoservice(bento_serv)\n",
    "\n",
    "serv_v = json.loads(requests.post(\"http://127.0.0.1:5000/service_version\", json={}).text)\n",
    "print(serv_v)\n",
    "\n",
    "#print(requests.post(\"http://127.0.0.1:5000/test_data\", json={}).text)\n",
    "test_data = json.loads(requests.post(\"http://127.0.0.1:5000/test_data\", json={}).text)\n",
    "\n",
    "preds = json.loads(requests.post(\"http://127.0.0.1:5000/predict\", json=test_data['X']).text)\n",
    "\n",
    "rmse = root_mean_squared_error(pd.DataFrame(test_data['Y']).values, preds)\n",
    "print(\"The root mean squared error (RMSE) on eval set: {:.4f}\".format(rmse))\n",
    "\n",
    "# Stop the dev model server\n",
    "stop_dev_bentoservice(bento_serv)"
   ]
  },
  {
   "cell_type": "code",
   "execution_count": null,
   "id": "47c68c69-46d1-48d0-a239-fac8bf36c6fa",
   "metadata": {
    "editable": true,
    "slideshow": {
     "slide_type": ""
    },
    "tags": [
     "parameters"
    ]
   },
   "outputs": [],
   "source": [
    "# check eval result\n",
    "rmse_threshold = substep_params[\"rmse_threshold\"]\n",
    "if rmse > rmse_threshold:\n",
    "    raise Exception(f'RMSE is {rmse}, more than acceptable value of {rmse_threshold}')"
   ]
  },
  {
   "cell_type": "code",
   "execution_count": null,
   "id": "b301e959-6121-4e67-ace4-825da12b000e",
   "metadata": {
    "editable": true,
    "slideshow": {
     "slide_type": ""
    },
    "tags": [
     "parameters"
    ]
   },
   "outputs": [],
   "source": []
  }
 ],
 "metadata": {
  "kernelspec": {
   "display_name": "ml",
   "language": "python",
   "name": "python3"
  },
  "language_info": {
   "codemirror_mode": {
    "name": "ipython",
    "version": 3
   },
   "file_extension": ".py",
   "mimetype": "text/x-python",
   "name": "python",
   "nbconvert_exporter": "python",
   "pygments_lexer": "ipython3",
   "version": "3.10.12"
  }
 },
 "nbformat": 4,
 "nbformat_minor": 5
}
