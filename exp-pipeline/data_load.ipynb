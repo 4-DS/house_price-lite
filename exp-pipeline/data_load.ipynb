{
 "cells": [
  {
   "cell_type": "code",
   "execution_count": null,
   "id": "bd9a32aa-5350-49f1-aea3-b30de63c8692",
   "metadata": {
    "editable": true,
    "slideshow": {
     "slide_type": ""
    },
    "tags": []
   },
   "outputs": [],
   "source": [
    "%load_ext autoreload\n",
    "%autoreload 2\n",
    "import sys, os\n",
    "sys.path.append('../')"
   ]
  },
  {
   "cell_type": "code",
   "execution_count": null,
   "id": "55e950c3-3151-4daf-9b98-83d3aebe216d",
   "metadata": {
    "editable": true,
    "slideshow": {
     "slide_type": ""
    },
    "tags": []
   },
   "outputs": [],
   "source": [
    "# run spark\n",
    "from sinara.spark import SinaraSpark\n",
    "\n",
    "spark = SinaraSpark.run_session(0)\n",
    "SinaraSpark.ui_url()"
   ]
  },
  {
   "cell_type": "markdown",
   "id": "9a8a998d-7b5a-49fc-b996-3e858250fc69",
   "metadata": {},
   "source": [
    "## Dataset description:\n",
    "The Boston house-price data of Harrison, D. and Rubinfeld, D.L. 'Hedonic prices and the demand for clean air', J. Environ. Economics & Management, vol.5, 81-102, 1978.   Used in Belsley, Kuh & Welsch, 'Regression diagnostics...', Wiley, 1980.   N.B. Various transformations are used in the table on pages 244-261 of the latter.<br>\n",
    "\n",
    "## Feature columns in order:\n",
    "**CRIM**: per capita crime rate by town<br>\n",
    "**ZN**: proportion of residential land zoned for lots over 25,000 sq.ft.<br>\n",
    "**INDUS**: proportion of non-retail business acres per town<br>\n",
    "**CHAS**: Charles River dummy variable (= 1 if tract bounds river; 0 otherwise)<br>\n",
    "**NOX**: nitric oxides concentration (parts per 10 million)<br>\n",
    "**RM**: average number of rooms per dwelling<br>\n",
    "**AGE**: proportion of owner-occupied units built prior to 1940<br>\n",
    "**DIS**: weighted distances to five Boston employment centres<br>\n",
    "**RAD**: index of accessibility to radial highways<br>\n",
    "**TAX**: full-value property-tax rate per \\$10,000<br>\n",
    "**PTRATIO**: pupil-teacher ratio by town<br>\n",
    "**B**: 1000(Bk - 0.63)^2 where Bk is the proportion of blacks by town<br>\n",
    "**LSTAT**: % lower status of the population<br>\n",
    "**MEDV**: Median value of owner-occupied homes in $1000's<br>\n",
    "\n",
    "## Dataset load process\n",
    "1. Download dataset from the internet storage"
   ]
  },
  {
   "cell_type": "code",
   "execution_count": null,
   "id": "70b2d9b3-051c-424c-beec-9da8f177b4ed",
   "metadata": {
    "editable": true,
    "slideshow": {
     "slide_type": ""
    },
    "tags": []
   },
   "outputs": [],
   "source": [
    "# load csv dataset into pandas dataframe\n",
    "\n",
    "import pandas as pd\n",
    "\n",
    "csv_url = \"https://83f122a2-fa55-45bb-aa0c-a0e660a792e1.selstorage.ru/BostonHousing.zip\"\n",
    "csv_feature_columns = ['CRIM', 'ZN', 'INDUS', 'CHAS', 'NOX', 'RM', 'AGE', 'DIS', 'RAD', 'TAX', 'PTRATIO', 'B', 'LSTAT', 'MEDV']\n",
    "boston_df = pd.read_csv(csv_url, sep=\",\", compression='zip')[csv_feature_columns]"
   ]
  },
  {
   "cell_type": "code",
   "execution_count": null,
   "id": "153fa50d-6d1f-497b-b944-9be34bffe36a",
   "metadata": {
    "editable": true,
    "slideshow": {
     "slide_type": ""
    },
    "tags": []
   },
   "outputs": [],
   "source": [
    "# convert pandas dataframe to spark dataframe\n",
    "boston_df_spark = spark.createDataFrame(boston_df)"
   ]
  },
  {
   "cell_type": "code",
   "execution_count": null,
   "id": "47c68c69-46d1-48d0-a239-fac8bf36c6fa",
   "metadata": {
    "editable": true,
    "slideshow": {
     "slide_type": ""
    },
    "tags": []
   },
   "outputs": [],
   "source": [
    "# write outputs\n",
    "from sinara.substep import get_tmp_work_path\n",
    "out_path = f\"{get_tmp_work_path()}/boston_dataset\"\n",
    "boston_df_spark.write.parquet(out_path, mode='overwrite')"
   ]
  },
  {
   "cell_type": "code",
   "execution_count": null,
   "id": "201ff276-6652-49a1-8938-ae5205999afc",
   "metadata": {
    "editable": true,
    "slideshow": {
     "slide_type": ""
    },
    "tags": []
   },
   "outputs": [],
   "source": [
    "# stop spark\n",
    "SinaraSpark.stop_session()"
   ]
  },
  {
   "cell_type": "code",
   "execution_count": null,
   "id": "bb13dc6e-3806-4557-b2a8-9fc6098ebf7e",
   "metadata": {
    "editable": true,
    "slideshow": {
     "slide_type": ""
    },
    "tags": []
   },
   "outputs": [],
   "source": [
    "# results used by the data_prep step\n",
    "out_path"
   ]
  },
  {
   "cell_type": "code",
   "execution_count": null,
   "id": "128f457e-c77c-45fa-8abd-0ef0f267feda",
   "metadata": {},
   "outputs": [],
   "source": []
  }
 ],
 "metadata": {
  "kernelspec": {
   "display_name": "ml",
   "language": "python",
   "name": "python3"
  },
  "language_info": {
   "codemirror_mode": {
    "name": "ipython",
    "version": 3
   },
   "file_extension": ".py",
   "mimetype": "text/x-python",
   "name": "python",
   "nbconvert_exporter": "python",
   "pygments_lexer": "ipython3",
   "version": "3.10.12"
  }
 },
 "nbformat": 4,
 "nbformat_minor": 5
}
