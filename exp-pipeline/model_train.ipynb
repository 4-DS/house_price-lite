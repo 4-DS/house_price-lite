{
 "cells": [
  {
   "cell_type": "code",
   "execution_count": null,
   "id": "870a1090-f4ae-45a0-aa93-0960f5c6478d",
   "metadata": {
    "editable": true,
    "slideshow": {
     "slide_type": ""
    },
    "tags": []
   },
   "outputs": [],
   "source": [
    "%load_ext autoreload\n",
    "%autoreload 2\n",
    "import sys, os\n",
    "sys.path.append('../')"
   ]
  },
  {
   "cell_type": "code",
   "execution_count": null,
   "id": "453c78e8-6822-4123-bf9d-ed1ae9dd7bea",
   "metadata": {
    "editable": true,
    "slideshow": {
     "slide_type": ""
    },
    "tags": [
     "parameters"
    ]
   },
   "outputs": [],
   "source": [
    "# specify parameters for interactive run\n",
    "# this cell will be replaced during pipeline run with the parameters from notebook function call\n",
    "train_params={'df_X_train': '/tmp/step/house_price-lite/exp-pipeline/run-24-12-27-053904/df_X_train',\n",
    " 'df_Y_train': '/tmp/step/house_price-lite/exp-pipeline/run-24-12-27-053904/df_Y_train',\n",
    " 'df_X_eval': '/tmp/step/house_price-lite/exp-pipeline/run-24-12-27-053904/df_X_eval',\n",
    " 'df_Y_eval': '/tmp/step/house_price-lite/exp-pipeline/run-24-12-27-053904/df_Y_eval',\n",
    " 'df_X_test': '/tmp/step/house_price-lite/exp-pipeline/run-24-12-27-053904/df_X_test',\n",
    " 'df_Y_test': '/tmp/step/house_price-lite/exp-pipeline/run-24-12-27-053904/df_Y_test'}"
   ]
  },
  {
   "cell_type": "code",
   "execution_count": null,
   "id": "55e950c3-3151-4daf-9b98-83d3aebe216d",
   "metadata": {
    "editable": true,
    "slideshow": {
     "slide_type": ""
    },
    "tags": []
   },
   "outputs": [],
   "source": [
    "# run spark\n",
    "from sinara.spark import SinaraSpark\n",
    "\n",
    "spark = SinaraSpark.run_session(0)\n",
    "SinaraSpark.ui_url()"
   ]
  },
  {
   "cell_type": "code",
   "execution_count": null,
   "id": "70b2d9b3-051c-424c-beec-9da8f177b4ed",
   "metadata": {
    "editable": true,
    "slideshow": {
     "slide_type": ""
    },
    "tags": [
     "parameters"
    ]
   },
   "outputs": [],
   "source": [
    "# read inputs \n",
    "df_X_train = spark.read.parquet(train_params[\"df_X_train\"]).pandas_api()\n",
    "df_Y_train = spark.read.parquet(train_params[\"df_Y_train\"]).pandas_api()\n",
    "df_X_eval = spark.read.parquet(train_params[\"df_X_eval\"]).pandas_api()\n",
    "df_Y_eval = spark.read.parquet(train_params[\"df_Y_eval\"]).pandas_api()\n",
    "df_X_test = spark.read.parquet(train_params[\"df_X_test\"]).pandas_api()\n",
    "df_Y_test = spark.read.parquet(train_params[\"df_Y_test\"]).pandas_api()"
   ]
  },
  {
   "cell_type": "code",
   "execution_count": null,
   "id": "04f8c516-079f-4473-8564-1cf66344872c",
   "metadata": {
    "editable": true,
    "slideshow": {
     "slide_type": ""
    },
    "tags": []
   },
   "outputs": [],
   "source": [
    "# Train the model predicting median house price (MEDV)\n",
    "from sklearn.ensemble import GradientBoostingRegressor\n",
    "from sklearn.metrics import root_mean_squared_error\n",
    "\n",
    "reg = GradientBoostingRegressor(random_state=239)\n",
    "reg.fit(df_X_train.to_numpy(), df_Y_train.to_numpy())"
   ]
  },
  {
   "cell_type": "code",
   "execution_count": null,
   "id": "f8197398-8097-425c-8fa3-798fe6dfdb60",
   "metadata": {
    "editable": true,
    "slideshow": {
     "slide_type": ""
    },
    "tags": []
   },
   "outputs": [],
   "source": [
    "# check trained model quality on eval dataset using RMSE\n",
    "rmse = root_mean_squared_error(df_Y_eval.to_numpy(), reg.predict(df_X_eval.to_numpy()))\n",
    "print(\"The root mean squared error (RMSE) on eval set: {:.4f}\".format(rmse))"
   ]
  },
  {
   "cell_type": "code",
   "execution_count": null,
   "id": "47c68c69-46d1-48d0-a239-fac8bf36c6fa",
   "metadata": {
    "editable": true,
    "slideshow": {
     "slide_type": ""
    },
    "tags": [
     "parameters"
    ]
   },
   "outputs": [],
   "source": [
    "# create and save a bentoservice\n",
    "from model_service import ModelService\n",
    "from sinara.bentoml import save_bentoservice\n",
    "from sinara.substep import get_tmp_work_path\n",
    "\n",
    "test_data = {}\n",
    "test_data['X'] = df_X_test.to_dict(orient='records')\n",
    "test_data['Y'] = df_Y_test.to_dict(orient='records')\n",
    "\n",
    "model = ModelService()\n",
    "model.pack('model', reg)\n",
    "model.pack('test_data', test_data)\n",
    "\n",
    "output_bento_service_path = f\"{get_tmp_work_path()}/bento_service\"\n",
    "\n",
    "save_bentoservice(model, path=output_bento_service_path, service_version='1')"
   ]
  },
  {
   "cell_type": "code",
   "execution_count": null,
   "id": "82ef2430-57f2-42f4-a435-f50e1edd2c0b",
   "metadata": {
    "editable": true,
    "slideshow": {
     "slide_type": ""
    },
    "tags": [
     "parameters"
    ]
   },
   "outputs": [],
   "source": [
    "# stop spark\n",
    "SinaraSpark.stop_session()"
   ]
  },
  {
   "cell_type": "code",
   "execution_count": null,
   "id": "d0ed54e4-89be-459f-9f55-e6685745686d",
   "metadata": {
    "editable": true,
    "slideshow": {
     "slide_type": ""
    },
    "tags": [
     "parameters"
    ]
   },
   "outputs": [],
   "source": [
    "# results used by the model_eval and model_test steps\n",
    "output_bento_service_path"
   ]
  },
  {
   "cell_type": "code",
   "execution_count": null,
   "id": "baf3a5ff-4be6-4b0e-a00e-d65ba399a709",
   "metadata": {
    "editable": true,
    "slideshow": {
     "slide_type": ""
    },
    "tags": [
     "parameters"
    ]
   },
   "outputs": [],
   "source": []
  }
 ],
 "metadata": {
  "kernelspec": {
   "display_name": "ml",
   "language": "python",
   "name": "python3"
  },
  "language_info": {
   "codemirror_mode": {
    "name": "ipython",
    "version": 3
   },
   "file_extension": ".py",
   "mimetype": "text/x-python",
   "name": "python",
   "nbconvert_exporter": "python",
   "pygments_lexer": "ipython3",
   "version": "3.10.12"
  }
 },
 "nbformat": 4,
 "nbformat_minor": 5
}
